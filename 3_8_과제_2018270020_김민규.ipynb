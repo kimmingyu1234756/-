{
  "nbformat": 4,
  "nbformat_minor": 0,
  "metadata": {
    "colab": {
      "provenance": [],
      "toc_visible": true
    },
    "kernelspec": {
      "name": "python3",
      "display_name": "Python 3"
    },
    "language_info": {
      "name": "python"
    }
  },
  "cells": [
    {
      "cell_type": "code",
      "execution_count": null,
      "metadata": {
        "id": "o-kMrmMfGiUc",
        "colab": {
          "base_uri": "https://localhost:8080/"
        },
        "outputId": "74021ecc-50cc-4286-f278-7b0ad633f3c3"
      },
      "outputs": [
        {
          "output_type": "stream",
          "name": "stdout",
          "text": [
            "Hello, Python Workld!\n"
          ]
        }
      ],
      "source": [
        "print('Hello, Python Workld!')\n"
      ]
    },
    {
      "cell_type": "code",
      "source": [
        "print(\"Hello, Python World!!\")\n",
        "\n",
        " # 따움표 차이"
      ],
      "metadata": {
        "colab": {
          "base_uri": "https://localhost:8080/"
        },
        "id": "fVN782OWHG98",
        "outputId": "125a2651-c3a0-4b0b-b3b2-cfb28df072df"
      },
      "execution_count": null,
      "outputs": [
        {
          "output_type": "stream",
          "name": "stdout",
          "text": [
            "Hello, Python World!!\n"
          ]
        }
      ]
    },
    {
      "cell_type": "code",
      "source": [
        "print('실무데이터분석')\n",
        "\n",
        " # 한글 가능"
      ],
      "metadata": {
        "colab": {
          "base_uri": "https://localhost:8080/"
        },
        "id": "XMSrDN5LHOZS",
        "outputId": "423ec4f1-8fc6-4d68-fb5d-9a35a6aba1ed"
      },
      "execution_count": null,
      "outputs": [
        {
          "output_type": "stream",
          "name": "stdout",
          "text": [
            "실무데이터분석\n"
          ]
        }
      ]
    },
    {
      "cell_type": "code",
      "source": [
        "?print \n",
        "\n",
        "# 사용시 오른쪽에 도움말이라는 창 생성\n",
        "\n",
        "# ex)\n",
        "# Docstring:\n",
        "# print(value, ..., sep=' ', end='\\n', file=sys.stdout, flush=False) ...\n"
      ],
      "metadata": {
        "id": "0ZKaC0RkHP3-"
      },
      "execution_count": null,
      "outputs": []
    },
    {
      "cell_type": "code",
      "source": [
        "print()"
      ],
      "metadata": {
        "colab": {
          "base_uri": "https://localhost:8080/"
        },
        "id": "mK4qntnfHUUx",
        "outputId": "3e43aa8e-7a90-42c6-93fb-df19fce2819f"
      },
      "execution_count": null,
      "outputs": [
        {
          "output_type": "stream",
          "name": "stdout",
          "text": [
            "\n"
          ]
        }
      ]
    },
    {
      "cell_type": "code",
      "source": [
        "a = 3\n",
        "print(a)\n",
        "type(a)\n",
        "\n",
        "# 타입 확인 - 정수"
      ],
      "metadata": {
        "colab": {
          "base_uri": "https://localhost:8080/"
        },
        "id": "_BzIOoD4Hf2X",
        "outputId": "7ac50266-fa51-4c01-c97e-c3de32644118"
      },
      "execution_count": null,
      "outputs": [
        {
          "output_type": "stream",
          "name": "stdout",
          "text": [
            "3\n"
          ]
        },
        {
          "output_type": "execute_result",
          "data": {
            "text/plain": [
              "int"
            ]
          },
          "metadata": {},
          "execution_count": 12
        }
      ]
    },
    {
      "cell_type": "code",
      "source": [
        "a = 'ab'\n",
        "print(a)\n",
        "type(a)\n",
        "\n",
        "# 타입 확인 - 문자"
      ],
      "metadata": {
        "colab": {
          "base_uri": "https://localhost:8080/"
        },
        "id": "YlynY_SZHqb9",
        "outputId": "7aade855-0364-4314-97e5-2b363b80adbf"
      },
      "execution_count": null,
      "outputs": [
        {
          "output_type": "stream",
          "name": "stdout",
          "text": [
            "ab\n"
          ]
        },
        {
          "output_type": "execute_result",
          "data": {
            "text/plain": [
              "str"
            ]
          },
          "metadata": {},
          "execution_count": 13
        }
      ]
    },
    {
      "cell_type": "code",
      "source": [
        "midterm = 65\n",
        "final = 90\n",
        "quiz = 99\n",
        "\n",
        "print(quiz)\n",
        "\n",
        "results = midterm*0.4 + final*0.4 + quiz*0.2\n",
        "print(results)\n",
        "\n",
        "# 변수 할당 후 계산"
      ],
      "metadata": {
        "colab": {
          "base_uri": "https://localhost:8080/"
        },
        "id": "Lbz7No_dHuCl",
        "outputId": "69e792ac-c5d2-4382-9e4f-b64d11c45654"
      },
      "execution_count": null,
      "outputs": [
        {
          "output_type": "stream",
          "name": "stdout",
          "text": [
            "99\n",
            "81.8\n"
          ]
        }
      ]
    },
    {
      "cell_type": "code",
      "source": [
        "midterm, final, quiz = 65, 90, 99\n",
        "results = midterm*0.4 + final*0.4 + quiz*0.2\n",
        "print(results)\n",
        "\n",
        "# 다중 할당 - 튜플 기능"
      ],
      "metadata": {
        "colab": {
          "base_uri": "https://localhost:8080/"
        },
        "id": "sUztE0lfHyGm",
        "outputId": "45dd9973-7d55-4beb-93e8-859c00bddff5"
      },
      "execution_count": null,
      "outputs": [
        {
          "output_type": "stream",
          "name": "stdout",
          "text": [
            "81.8\n"
          ]
        }
      ]
    },
    {
      "cell_type": "code",
      "source": [
        "print(type(midterm))\n",
        " \n",
        "print(results)\n",
        "\n",
        "print(type(results))\n",
        "\n",
        "# 위에서 실행한 값 그대로 적용 중\n",
        "# 정수형과 실수형"
      ],
      "metadata": {
        "colab": {
          "base_uri": "https://localhost:8080/"
        },
        "id": "CcGn5A0gH9k2",
        "outputId": "de7058ce-983b-48c3-f668-d24941ccbaee"
      },
      "execution_count": null,
      "outputs": [
        {
          "output_type": "stream",
          "name": "stdout",
          "text": [
            "<class 'int'>\n",
            "81.8\n",
            "<class 'float'>\n"
          ]
        }
      ]
    },
    {
      "cell_type": "code",
      "source": [
        "print(type(midterm))"
      ],
      "metadata": {
        "colab": {
          "base_uri": "https://localhost:8080/"
        },
        "id": "NyNO5KwqH_JR",
        "outputId": "cfbefae0-e2a7-4202-f9b1-51262b7946a8"
      },
      "execution_count": null,
      "outputs": [
        {
          "output_type": "stream",
          "name": "stdout",
          "text": [
            "<class 'int'>\n"
          ]
        }
      ]
    },
    {
      "cell_type": "code",
      "source": [
        "a = 10/3\n",
        "print(a)\n",
        "print(type(a))"
      ],
      "metadata": {
        "colab": {
          "base_uri": "https://localhost:8080/"
        },
        "id": "TwvZXITAIEe-",
        "outputId": "71fefa4c-f9df-4c8d-ef78-fbb1ab4b5f8e"
      },
      "execution_count": null,
      "outputs": [
        {
          "output_type": "stream",
          "name": "stdout",
          "text": [
            "3.3333333333333335\n",
            "<class 'float'>\n"
          ]
        }
      ]
    },
    {
      "cell_type": "code",
      "source": [
        " comp_01 = complex(3,5)\n",
        " comp_02 = 3 + 5j\n",
        "print(comp_01)\n",
        "print(comp_02)\n",
        "print(type(comp_01))\n",
        "print(type(comp_02))\n",
        "\n",
        "# 복소수 타입 확인"
      ],
      "metadata": {
        "colab": {
          "base_uri": "https://localhost:8080/"
        },
        "id": "jSxigN2oIN2q",
        "outputId": "5ce73227-247c-4e9e-f321-d7e48806d957"
      },
      "execution_count": null,
      "outputs": [
        {
          "output_type": "stream",
          "name": "stdout",
          "text": [
            "(3+5j)\n",
            "(3+5j)\n",
            "<class 'complex'>\n",
            "<class 'complex'>\n"
          ]
        }
      ]
    },
    {
      "cell_type": "code",
      "source": [
        "10/7"
      ],
      "metadata": {
        "colab": {
          "base_uri": "https://localhost:8080/"
        },
        "id": "0lZwvGt-IQbA",
        "outputId": "e72bb5a7-341f-43e0-d0ce-50543501fef9"
      },
      "execution_count": null,
      "outputs": [
        {
          "output_type": "execute_result",
          "data": {
            "text/plain": [
              "1.4285714285714286"
            ]
          },
          "metadata": {},
          "execution_count": 21
        }
      ]
    },
    {
      "cell_type": "code",
      "source": [
        "10//7 \n",
        "\n",
        "# 몫 확인\n",
        "# 나머지는 % 사용"
      ],
      "metadata": {
        "colab": {
          "base_uri": "https://localhost:8080/"
        },
        "id": "xLQ3l-YBIafR",
        "outputId": "b4961714-ab0f-4c03-e2a1-b925a780d335"
      },
      "execution_count": null,
      "outputs": [
        {
          "output_type": "execute_result",
          "data": {
            "text/plain": [
              "1"
            ]
          },
          "metadata": {},
          "execution_count": 22
        }
      ]
    },
    {
      "cell_type": "code",
      "source": [
        "print(1,2,3) "
      ],
      "metadata": {
        "colab": {
          "base_uri": "https://localhost:8080/"
        },
        "id": "0tXBEySBIbz1",
        "outputId": "b4dd69a9-0805-4154-b144-b3a5c3337ed9"
      },
      "execution_count": null,
      "outputs": [
        {
          "output_type": "stream",
          "name": "stdout",
          "text": [
            "1 2 3\n"
          ]
        }
      ]
    },
    {
      "cell_type": "code",
      "source": [
        "print('1\\t2\\t3')\n",
        "\n",
        "# 탭(tab) 기능"
      ],
      "metadata": {
        "colab": {
          "base_uri": "https://localhost:8080/"
        },
        "id": "3NziMyYpIic4",
        "outputId": "c85a4af8-06e4-4e62-aa54-c6ce017c064b"
      },
      "execution_count": null,
      "outputs": [
        {
          "output_type": "stream",
          "name": "stdout",
          "text": [
            "1\t2\t3\n"
          ]
        }
      ]
    },
    {
      "cell_type": "code",
      "source": [
        "print(1,2,3,sep='\\t')\n",
        "\n",
        "# 위와 같은 방식"
      ],
      "metadata": {
        "colab": {
          "base_uri": "https://localhost:8080/"
        },
        "id": "PeJ08btjIjod",
        "outputId": "bada654d-bdf6-4909-fb01-09b66388bd47"
      },
      "execution_count": null,
      "outputs": [
        {
          "output_type": "stream",
          "name": "stdout",
          "text": [
            "1\t2\t3\n"
          ]
        }
      ]
    },
    {
      "cell_type": "code",
      "source": [
        "print(1,2,3,sep='\\n\\n')\n",
        "\n",
        "# 엔터(Enter) 2번"
      ],
      "metadata": {
        "colab": {
          "base_uri": "https://localhost:8080/"
        },
        "id": "mJYRKC3SItn5",
        "outputId": "5704ccba-2292-4068-c9fb-92f9c518640f"
      },
      "execution_count": null,
      "outputs": [
        {
          "output_type": "stream",
          "name": "stdout",
          "text": [
            "1\n",
            "\n",
            "2\n",
            "\n",
            "3\n"
          ]
        }
      ]
    },
    {
      "cell_type": "code",
      "source": [
        "print(3,end='\\t*\\t\\n')\n",
        "print(5,end='*')\n",
        "\n",
        "# end는 출력 완료후 내용의 수정."
      ],
      "metadata": {
        "colab": {
          "base_uri": "https://localhost:8080/"
        },
        "id": "RKf4xqwGIvI8",
        "outputId": "50f3be16-4022-469d-a59b-10a7435531f6"
      },
      "execution_count": null,
      "outputs": [
        {
          "output_type": "stream",
          "name": "stdout",
          "text": [
            "3\t*\t\n",
            "5*"
          ]
        }
      ]
    },
    {
      "cell_type": "code",
      "source": [
        "thanks = 'thanks'\n",
        "name = '실무데이터분석'\n",
        "tn = thanks +',    '+ name\n",
        "\n",
        "print(tn)\n",
        "print(len(thanks))\n",
        "print(len(name))\n",
        "print(len(tn))\n",
        "\n",
        "# 문자열도 더하기 가능\n",
        "# len은 문자열의 길이를 반환"
      ],
      "metadata": {
        "colab": {
          "base_uri": "https://localhost:8080/"
        },
        "id": "8hMFgo8EI0IF",
        "outputId": "8b14f924-a356-4a67-c95d-71362be6a8d1"
      },
      "execution_count": null,
      "outputs": [
        {
          "output_type": "stream",
          "name": "stdout",
          "text": [
            "thanks,    실무데이터분석\n",
            "6\n",
            "7\n",
            "18\n"
          ]
        }
      ]
    },
    {
      "cell_type": "code",
      "source": [
        "multilines = \"\"\"\n",
        "hello, python world\n",
        "- keras\n",
        "- anything\n",
        "\"\"\"\n",
        "print(multilines)\n",
        "\n",
        "# \"\"\" \"\"\" 안쪽에 전부 문자로 취급. 엔터도 적용되는것 확인 가능"
      ],
      "metadata": {
        "colab": {
          "base_uri": "https://localhost:8080/"
        },
        "id": "V891et6sJA-i",
        "outputId": "ce27d31b-9965-4af6-ee52-43c4bb2c4b0b"
      },
      "execution_count": null,
      "outputs": [
        {
          "output_type": "stream",
          "name": "stdout",
          "text": [
            "\n",
            "hello, python world\n",
            "- keras\n",
            "- anything\n",
            "\n"
          ]
        }
      ]
    },
    {
      "cell_type": "code",
      "source": [
        "print('여기에 %d 을 출력하고싶다' % (5))\n",
        "\n",
        "# 값을 치환하는 방법. %d 는 정수"
      ],
      "metadata": {
        "colab": {
          "base_uri": "https://localhost:8080/"
        },
        "id": "23WuU-_9JKol",
        "outputId": "1871cbeb-b08a-4b08-bb5c-8e11d2582e19"
      },
      "execution_count": null,
      "outputs": [
        {
          "output_type": "stream",
          "name": "stdout",
          "text": [
            "여기에 5 을 출력하고싶다\n"
          ]
        }
      ]
    },
    {
      "cell_type": "code",
      "source": [
        "print('여기에 %s을 출력하고싶다' % ('5입니다.'))\n",
        "\n",
        "# %s 는 문자"
      ],
      "metadata": {
        "colab": {
          "base_uri": "https://localhost:8080/"
        },
        "id": "98Zw6Lu0JhDW",
        "outputId": "82c27315-a374-4cd5-c525-6bc1d653b007"
      },
      "execution_count": null,
      "outputs": [
        {
          "output_type": "stream",
          "name": "stdout",
          "text": [
            "여기에 5입니다.을 출력하고싶다\n"
          ]
        }
      ]
    },
    {
      "cell_type": "code",
      "source": [
        "print('%s는 %d %s' % ('이 뒤에 오는 숫자는', 6, '입니다.'))\n",
        "\n",
        "# 중복 사용 가능"
      ],
      "metadata": {
        "colab": {
          "base_uri": "https://localhost:8080/"
        },
        "id": "jQORf-8oJiWS",
        "outputId": "1a8cf0dd-49ab-4aa5-c78d-9ece0f827365"
      },
      "execution_count": null,
      "outputs": [
        {
          "output_type": "stream",
          "name": "stdout",
          "text": [
            "이 뒤에 오는 숫자는는 6 입니다.\n"
          ]
        }
      ]
    },
    {
      "cell_type": "code",
      "source": [
        "print('{0}과 {1} 그리고 거꾸로 {1} 과 {0}로 출력됩니다.'.format('abc','한국세종'))\n",
        "\n",
        "# 인덱스 위치를 정해두고 format 안의 순서와 동일한 것을 적용"
      ],
      "metadata": {
        "colab": {
          "base_uri": "https://localhost:8080/"
        },
        "id": "nj7z03MaJvlF",
        "outputId": "62f7136c-41d2-4be6-8549-748bad7b32b0"
      },
      "execution_count": null,
      "outputs": [
        {
          "output_type": "stream",
          "name": "stdout",
          "text": [
            "abc과 한국세종 그리고 거꾸로 한국세종 과 abc로 출력됩니다.\n"
          ]
        }
      ]
    },
    {
      "cell_type": "code",
      "source": [
        "print('%s는 %d %s' % ('이 뒤에 오는 숫자는', results , '입니다.'))\n",
        "\n",
        "# 변수도 가능"
      ],
      "metadata": {
        "colab": {
          "base_uri": "https://localhost:8080/"
        },
        "id": "-EckyRldJ3Hq",
        "outputId": "efc81140-d84b-4a02-a63c-462e7cf34075"
      },
      "execution_count": null,
      "outputs": [
        {
          "output_type": "stream",
          "name": "stdout",
          "text": [
            "이 뒤에 오는 숫자는는 81 입니다.\n"
          ]
        }
      ]
    },
    {
      "cell_type": "code",
      "source": [
        "print('이름 : %s 의 결과값은 %d 입니다.' % (name, results))"
      ],
      "metadata": {
        "colab": {
          "base_uri": "https://localhost:8080/"
        },
        "id": "cMqDbgURKIhA",
        "outputId": "2a0d67ec-ba10-416d-c113-838ff4ef81af"
      },
      "execution_count": null,
      "outputs": [
        {
          "output_type": "stream",
          "name": "stdout",
          "text": [
            "이름 : 실무데이터분석 의 결과값은 81 입니다.\n"
          ]
        }
      ]
    },
    {
      "cell_type": "code",
      "source": [
        "print('{0}은 {1} 이고,  {0}은 {2} 합니다.'.format(name, results, thanks))"
      ],
      "metadata": {
        "colab": {
          "base_uri": "https://localhost:8080/"
        },
        "id": "iUf7Hnb2KMRH",
        "outputId": "accbd142-b16d-4e24-f943-6441a0157df4"
      },
      "execution_count": null,
      "outputs": [
        {
          "output_type": "stream",
          "name": "stdout",
          "text": [
            "실무데이터분석은 81.8 이고,  실무데이터분석은 thanks 합니다.\n"
          ]
        }
      ]
    },
    {
      "cell_type": "code",
      "source": [
        "stu01 = [\"Geoffery Hinton\", 95, 65, 90]\n",
        "stu02 = [\"Yann Lecun\", 80, 85, 90]\n",
        "stu03 = [\"Yoshua Bengio\", 92, 88, 84]\n",
        "stu04 = [\"Andrew Ng\", 75, 85, 100]\n",
        "\n",
        "print(type(stu01))\n",
        "\n",
        "# list 사용"
      ],
      "metadata": {
        "colab": {
          "base_uri": "https://localhost:8080/"
        },
        "id": "wFM2PzuFKOU4",
        "outputId": "a76ae74e-1f0b-4013-8bed-67775ce45edf"
      },
      "execution_count": null,
      "outputs": [
        {
          "output_type": "stream",
          "name": "stdout",
          "text": [
            "<class 'list'>\n"
          ]
        }
      ]
    },
    {
      "cell_type": "code",
      "source": [
        "print(stu03) "
      ],
      "metadata": {
        "colab": {
          "base_uri": "https://localhost:8080/"
        },
        "id": "_JEswo8iKRTo",
        "outputId": "70a25f54-0991-471d-d9d7-c3e19c55ffbf"
      },
      "execution_count": null,
      "outputs": [
        {
          "output_type": "stream",
          "name": "stdout",
          "text": [
            "['Yoshua Bengio', 92, 88, 84]\n"
          ]
        }
      ]
    },
    {
      "cell_type": "code",
      "source": [
        "print(stu03[0])\n",
        "\n",
        "# list 요소 조회 방법, 0 부터 시작"
      ],
      "metadata": {
        "colab": {
          "base_uri": "https://localhost:8080/"
        },
        "id": "N7TBQp2vKVTP",
        "outputId": "87da724a-b232-4021-f90f-84b4ca819315"
      },
      "execution_count": null,
      "outputs": [
        {
          "output_type": "stream",
          "name": "stdout",
          "text": [
            "Yoshua Bengio\n"
          ]
        }
      ]
    },
    {
      "cell_type": "code",
      "source": [
        "print(stu01[1])\n",
        "print(stu01[3])"
      ],
      "metadata": {
        "colab": {
          "base_uri": "https://localhost:8080/"
        },
        "id": "KCS2eqNeKXGy",
        "outputId": "3d741ad9-73ce-4012-f53d-a886aa4c83f2"
      },
      "execution_count": null,
      "outputs": [
        {
          "output_type": "stream",
          "name": "stdout",
          "text": [
            "95\n",
            "90\n"
          ]
        }
      ]
    },
    {
      "cell_type": "code",
      "source": [
        "stu = [stu01, stu02, stu03, stu04]\n",
        "stu = [[\"Geoffery Hinton\", 95, 65, 90], stu02, stu03, stu04]\n",
        "\n",
        "print(type(stu01))"
      ],
      "metadata": {
        "colab": {
          "base_uri": "https://localhost:8080/"
        },
        "id": "d0Q6FN7-KZC9",
        "outputId": "2dd15bf5-40ad-4204-f0b7-f431c221ce97"
      },
      "execution_count": null,
      "outputs": [
        {
          "output_type": "stream",
          "name": "stdout",
          "text": [
            "<class 'list'>\n"
          ]
        }
      ]
    },
    {
      "cell_type": "code",
      "source": [
        "print(stu)\n",
        "print(stu[0])\n",
        "# list 안의 list 넣기 - 2차원 list 생성"
      ],
      "metadata": {
        "colab": {
          "base_uri": "https://localhost:8080/"
        },
        "id": "EuDDUSOtKdiP",
        "outputId": "db1c67df-4bfa-4453-cb65-c9d763917f47"
      },
      "execution_count": null,
      "outputs": [
        {
          "output_type": "stream",
          "name": "stdout",
          "text": [
            "[['Geoffery Hinton', 95, 65, 90], ['Yann Lecun', 80, 85, 90], ['Yoshua Bengio', 92, 88, 84], ['Andrew Ng', 75, 85, 100]]\n",
            "['Geoffery Hinton', 95, 65, 90]\n"
          ]
        }
      ]
    },
    {
      "cell_type": "code",
      "source": [
        "print(stu[0][0])\n",
        "print(stu[0][2])\n",
        "\n",
        "print(stu[2][3])\n",
        "\n",
        "# 예상 \n",
        "# 'Geoffery Hinton'\n",
        "# 65\n",
        "# 84"
      ],
      "metadata": {
        "colab": {
          "base_uri": "https://localhost:8080/"
        },
        "id": "dQWXe1kNKjfN",
        "outputId": "151b5381-c8fb-40d7-8539-9ee32ec95ad4"
      },
      "execution_count": null,
      "outputs": [
        {
          "output_type": "stream",
          "name": "stdout",
          "text": [
            "Geoffery Hinton\n",
            "65\n",
            "84\n"
          ]
        }
      ]
    },
    {
      "cell_type": "code",
      "source": [
        "l = [1,2]\n",
        "\n",
        "print(l)\n",
        "print(type(l))\n",
        "\n",
        "# 앞에서 배운것 복습"
      ],
      "metadata": {
        "colab": {
          "base_uri": "https://localhost:8080/"
        },
        "id": "S7YKHJiOKuwP",
        "outputId": "a708351f-da98-4809-f205-ecdea6386eb2"
      },
      "execution_count": null,
      "outputs": [
        {
          "output_type": "stream",
          "name": "stdout",
          "text": [
            "[1, 2]\n",
            "<class 'list'>\n"
          ]
        }
      ]
    },
    {
      "cell_type": "code",
      "source": [
        "print(l[0], l[1], sep='\\n')"
      ],
      "metadata": {
        "colab": {
          "base_uri": "https://localhost:8080/"
        },
        "id": "eqeZrKShKyAq",
        "outputId": "76628893-7d7c-4e39-c8f6-5bf146ec02ac"
      },
      "execution_count": null,
      "outputs": [
        {
          "output_type": "stream",
          "name": "stdout",
          "text": [
            "1\n",
            "2\n"
          ]
        }
      ]
    },
    {
      "cell_type": "code",
      "source": [
        "ts= [1, 2, ['a', 'b']]\n",
        "print(ts)"
      ],
      "metadata": {
        "colab": {
          "base_uri": "https://localhost:8080/"
        },
        "id": "r3w2Lb0nKzF4",
        "outputId": "1a1c362c-b1f4-46b3-ef66-c0795f074bc5"
      },
      "execution_count": null,
      "outputs": [
        {
          "output_type": "stream",
          "name": "stdout",
          "text": [
            "[1, 2, ['a', 'b']]\n"
          ]
        }
      ]
    },
    {
      "cell_type": "code",
      "source": [
        "print(ts[2][0])"
      ],
      "metadata": {
        "colab": {
          "base_uri": "https://localhost:8080/"
        },
        "id": "X2vxSbzKK4Vr",
        "outputId": "62b260f4-c1e9-425e-bd79-2a8064ec5cf1"
      },
      "execution_count": null,
      "outputs": [
        {
          "output_type": "stream",
          "name": "stdout",
          "text": [
            "a\n"
          ]
        }
      ]
    },
    {
      "cell_type": "code",
      "source": [
        "print(ts[2])"
      ],
      "metadata": {
        "colab": {
          "base_uri": "https://localhost:8080/"
        },
        "id": "CxaElCqRK5bF",
        "outputId": "7753a181-dad2-4e63-92cb-a34fba17ff44"
      },
      "execution_count": null,
      "outputs": [
        {
          "output_type": "stream",
          "name": "stdout",
          "text": [
            "['a', 'b']\n"
          ]
        }
      ]
    },
    {
      "cell_type": "code",
      "source": [
        "print(ts[2][1])"
      ],
      "metadata": {
        "colab": {
          "base_uri": "https://localhost:8080/"
        },
        "id": "LPc2VvI-K69d",
        "outputId": "42eaeab1-847b-401d-f5a5-32697e0ea1e8"
      },
      "execution_count": null,
      "outputs": [
        {
          "output_type": "stream",
          "name": "stdout",
          "text": [
            "b\n"
          ]
        }
      ]
    },
    {
      "cell_type": "code",
      "source": [
        "l = [1, 2, ['a', 'b'], [100, 200, 300, 500]]\n",
        "print(l)"
      ],
      "metadata": {
        "colab": {
          "base_uri": "https://localhost:8080/"
        },
        "id": "zBiKoF_7K74Z",
        "outputId": "1a610300-8149-403d-8cd0-fd48af97de75"
      },
      "execution_count": null,
      "outputs": [
        {
          "output_type": "stream",
          "name": "stdout",
          "text": [
            "[1, 2, ['a', 'b'], [100, 200, 300, 500]]\n"
          ]
        }
      ]
    },
    {
      "cell_type": "code",
      "source": [
        "print(l[3][2])"
      ],
      "metadata": {
        "colab": {
          "base_uri": "https://localhost:8080/"
        },
        "id": "4PyCvKyoK8zZ",
        "outputId": "059f9661-adde-4c32-cf75-ffc478626bc3"
      },
      "execution_count": null,
      "outputs": [
        {
          "output_type": "stream",
          "name": "stdout",
          "text": [
            "300\n"
          ]
        }
      ]
    },
    {
      "cell_type": "code",
      "source": [
        "stu01 = [\"Geoffery Hinton\", 95, 65, 90]\n",
        "stu02 = [\"Yann Lecun\", 80, 85, 90]\n",
        "stu03 = [\"Yoshua Bengio\", 92, 88, 84]\n",
        "stu04 = [\"Andrew Ng\", 75, 85, 100]\n",
        "\n",
        "print(type(stu01))"
      ],
      "metadata": {
        "colab": {
          "base_uri": "https://localhost:8080/"
        },
        "id": "KCTOytPNK-ve",
        "outputId": "66fded8c-70cc-45c1-9838-ef52a2e0295d"
      },
      "execution_count": null,
      "outputs": [
        {
          "output_type": "stream",
          "name": "stdout",
          "text": [
            "<class 'list'>\n"
          ]
        }
      ]
    },
    {
      "cell_type": "code",
      "source": [
        "print(stu01)\n",
        "stu01.append(100)\n",
        "print(stu01)\n",
        "\n",
        "# append를 통한 list에 요소 추가하기"
      ],
      "metadata": {
        "colab": {
          "base_uri": "https://localhost:8080/"
        },
        "id": "qwGegRvdLBCQ",
        "outputId": "6ddf8605-308d-471d-cab1-73189bcdb81d"
      },
      "execution_count": null,
      "outputs": [
        {
          "output_type": "stream",
          "name": "stdout",
          "text": [
            "['Geoffery Hinton', 95, 65, 90]\n",
            "['Geoffery Hinton', 95, 65, 90, 100]\n"
          ]
        }
      ]
    },
    {
      "cell_type": "code",
      "source": [
        "print(stu01)\n",
        "del stu01[0]\n",
        "print(stu01)\n",
        "\n",
        "# del를 사용하여 요소 제거. 여기서는 del이 앞으로 온 모습 확인 가능"
      ],
      "metadata": {
        "colab": {
          "base_uri": "https://localhost:8080/"
        },
        "id": "UtcLVrr9LCFO",
        "outputId": "29fec6b9-d05a-482e-8c36-1c8ea6f1db49"
      },
      "execution_count": null,
      "outputs": [
        {
          "output_type": "stream",
          "name": "stdout",
          "text": [
            "['Geoffery Hinton', 95, 65, 90, 100]\n",
            "[95, 65, 90, 100]\n"
          ]
        }
      ]
    },
    {
      "cell_type": "code",
      "source": [
        "print(stu01)\n",
        "stu01[0] = 99\n",
        "print(stu01)\n",
        "\n",
        "# 변수에 값 넣는 것 처럼 요소 변경"
      ],
      "metadata": {
        "colab": {
          "base_uri": "https://localhost:8080/"
        },
        "id": "ItPwc7rALMPx",
        "outputId": "a77c5136-af71-4eee-d480-170e33961435"
      },
      "execution_count": null,
      "outputs": [
        {
          "output_type": "stream",
          "name": "stdout",
          "text": [
            "[95, 65, 90, 100]\n",
            "[99, 65, 90, 100]\n"
          ]
        }
      ]
    },
    {
      "cell_type": "code",
      "source": [
        "stu05 = stu01\n",
        "print('stu05: ', stu05)\n",
        "stu06 = stu01.copy()\n",
        "print('stu06: ', stu06)\n",
        "\n",
        "# copy 함수를 사용해 list 복사. 아마 객체 주소와 연관있을 것으로 추정"
      ],
      "metadata": {
        "colab": {
          "base_uri": "https://localhost:8080/"
        },
        "id": "TQd40vBCLNcy",
        "outputId": "83a3ec59-ee3b-4dbc-f384-45539d70c223"
      },
      "execution_count": null,
      "outputs": [
        {
          "output_type": "stream",
          "name": "stdout",
          "text": [
            "stu05:  [99, 65, 90, 100]\n",
            "stu06:  [99, 65, 90, 100]\n"
          ]
        }
      ]
    },
    {
      "cell_type": "code",
      "source": [
        "stucp = stu01\n",
        "print('stu01: ', stu01)\n",
        "print('stucp: ', stucp)\n",
        "print('---------')\n",
        "stu01[1] = 30000\n",
        "print('stu01: ', stu01)\n",
        "print('stucp: ', stucp)\n",
        "print('stu06: ', stu06)\n",
        "\n",
        "# copy 없이 사용시 stu01이 바뀌자 stucp도 같이 바뀌는 모습 확인 가능. stu06은 변화 없음."
      ],
      "metadata": {
        "colab": {
          "base_uri": "https://localhost:8080/"
        },
        "id": "N3j8s6pMLYW9",
        "outputId": "2ffdc233-b59f-4189-cc6a-7767d5a6c620"
      },
      "execution_count": null,
      "outputs": [
        {
          "output_type": "stream",
          "name": "stdout",
          "text": [
            "stu01:  [99, 65, 90, 100]\n",
            "stucp:  [99, 65, 90, 100]\n",
            "---------\n",
            "stu01:  [99, 30000, 90, 100]\n",
            "stucp:  [99, 30000, 90, 100]\n",
            "stu06:  [99, 65, 90, 100]\n"
          ]
        }
      ]
    },
    {
      "cell_type": "markdown",
      "source": [
        "### **과제 01.**\n",
        "\n",
        "\n"
      ],
      "metadata": {
        "id": "4QSzoOh_OAkW"
      }
    },
    {
      "cell_type": "code",
      "source": [
        "stu01 = [\"Geoffery Hinton\", 95, 65, 90]\n",
        "stu02 = [\"Yann Lecun\", 80, 85, 90]\n",
        "stu03 = [\"Yoshua Bengio\", 92, 88, 84]\n",
        "stu04 = [\"Andrew Ng\", 75, 85, 100]\n",
        "\n",
        "# 초기화"
      ],
      "metadata": {
        "id": "0lUzZT1GLZWJ"
      },
      "execution_count": null,
      "outputs": []
    },
    {
      "cell_type": "code",
      "source": [
        "# 위의 4개의 리스트를 담은 리스트 stu 를 생성하세요. \n",
        "\n",
        "stu = [stu01, stu02, stu03, stu04]"
      ],
      "metadata": {
        "id": "RJy04HGqLl_F"
      },
      "execution_count": null,
      "outputs": []
    },
    {
      "cell_type": "code",
      "source": [
        "# 첫 학생의 이름 중 Last Name만 출력하세요. \n",
        "print(stu[0][0][9:]) \n"
      ],
      "metadata": {
        "colab": {
          "base_uri": "https://localhost:8080/"
        },
        "id": "wbX0h9cPLnZi",
        "outputId": "ae69aff4-f491-47aa-de93-7034c2521b04"
      },
      "execution_count": null,
      "outputs": [
        {
          "output_type": "stream",
          "name": "stdout",
          "text": [
            "Hinton\n"
          ]
        }
      ]
    },
    {
      "cell_type": "code",
      "source": [
        "# 두번째 학생의 이름 중 Last Name만 출력하세요. \n",
        "print(stu[1][0][5:]) \n"
      ],
      "metadata": {
        "colab": {
          "base_uri": "https://localhost:8080/"
        },
        "id": "2u5QMkxDL7y-",
        "outputId": "49ef3031-01f0-4fed-d213-ff5cdef9eff9"
      },
      "execution_count": null,
      "outputs": [
        {
          "output_type": "stream",
          "name": "stdout",
          "text": [
            "Lecun\n"
          ]
        }
      ]
    },
    {
      "cell_type": "code",
      "source": [
        "# 세번째 학생의 이름 중 Last Name만 출력하세요. \n",
        "print(stu[2][0][7:]) "
      ],
      "metadata": {
        "colab": {
          "base_uri": "https://localhost:8080/"
        },
        "id": "4ZxiNZlyMBl1",
        "outputId": "095a3e38-a600-444c-87e2-5b70b91ad1c8"
      },
      "execution_count": null,
      "outputs": [
        {
          "output_type": "stream",
          "name": "stdout",
          "text": [
            "Bengio\n"
          ]
        }
      ]
    },
    {
      "cell_type": "code",
      "source": [
        "a='this is sentence'\n",
        "# a 타입을 출력하시오\n",
        "type(a)"
      ],
      "metadata": {
        "colab": {
          "base_uri": "https://localhost:8080/"
        },
        "id": "MYmiluYyMF7Q",
        "outputId": "052ce079-7a09-4c58-af2f-b0facb41953d"
      },
      "execution_count": null,
      "outputs": [
        {
          "output_type": "execute_result",
          "data": {
            "text/plain": [
              "str"
            ]
          },
          "metadata": {},
          "execution_count": 69
        }
      ]
    },
    {
      "cell_type": "code",
      "source": [
        "# a 에서 \"is\" 만을 출력하시오\n",
        "a[5:7]"
      ],
      "metadata": {
        "colab": {
          "base_uri": "https://localhost:8080/",
          "height": 35
        },
        "id": "3k9vevc7MIqU",
        "outputId": "b5a6c812-af4f-444c-d356-d3c2c04a843d"
      },
      "execution_count": null,
      "outputs": [
        {
          "output_type": "execute_result",
          "data": {
            "text/plain": [
              "'is'"
            ],
            "application/vnd.google.colaboratory.intrinsic+json": {
              "type": "string"
            }
          },
          "metadata": {},
          "execution_count": 70
        }
      ]
    },
    {
      "cell_type": "code",
      "source": [
        "# 모든 학생들의 이름 중 Last Name만 출력하세요. 다음을 완성하세요."
      ],
      "metadata": {
        "id": "mX0wL51lMNmx"
      },
      "execution_count": null,
      "outputs": []
    },
    {
      "cell_type": "code",
      "source": [
        "print(stu[0][0][9:]) \n",
        "print(stu[1][0][5:]) \n",
        "print(stu[2][0][7:]) \n",
        "print(stu[3][0][7:]) "
      ],
      "metadata": {
        "colab": {
          "base_uri": "https://localhost:8080/"
        },
        "id": "kxy4QFy-MPex",
        "outputId": "3af32328-879d-4499-f073-698c5158594b"
      },
      "execution_count": null,
      "outputs": [
        {
          "output_type": "stream",
          "name": "stdout",
          "text": [
            "Hinton\n",
            "Lecun\n",
            "Bengio\n",
            "Ng\n"
          ]
        }
      ]
    },
    {
      "cell_type": "code",
      "source": [
        "# '이렇게 30을 출력해요'\n",
        "print(\"\\'이렇게 30을 출력해요\\'\")"
      ],
      "metadata": {
        "colab": {
          "base_uri": "https://localhost:8080/"
        },
        "id": "5tRe9SWyMULy",
        "outputId": "7a620fbc-90e6-49dc-f8c6-8cccc22cebb3"
      },
      "execution_count": null,
      "outputs": [
        {
          "output_type": "stream",
          "name": "stdout",
          "text": [
            "'이렇게 30을 출력해요'\n"
          ]
        }
      ]
    },
    {
      "cell_type": "code",
      "source": [
        "# stu 리스트 의 점수 합산을 계산하시오. 첫번째점수 *0.4 + 두번째점수*0.4 + 세번째점수 *0.2\n",
        "\n",
        "print(stu[0][1]*0.4+stu[0][2]*0.4+stu[0][3]*0.2) \n",
        "print(stu[1][1]*0.4+stu[1][2]*0.4+stu[1][3]*0.2) \n",
        "print(stu[2][1]*0.4+stu[2][2]*0.4+stu[2][3]*0.2) \n",
        "print(stu[3][1]*0.4+stu[3][2]*0.4+stu[3][3]*0.2) "
      ],
      "metadata": {
        "colab": {
          "base_uri": "https://localhost:8080/"
        },
        "id": "E2KUEgBTMYES",
        "outputId": "57dde58c-9606-473b-c0e2-1bfa185ed3d6"
      },
      "execution_count": null,
      "outputs": [
        {
          "output_type": "stream",
          "name": "stdout",
          "text": [
            "82.0\n",
            "84.0\n",
            "88.8\n",
            "84.0\n"
          ]
        }
      ]
    },
    {
      "cell_type": "code",
      "source": [
        "# stu 리스트에 위에서 구한 합산 점수를 추가 하세요. \n",
        "stu[0].append(82.0)\n",
        "stu[1].append(84.0)\n",
        "stu[2].append(88.8)\n",
        "stu[3].append(84.0)\n",
        "print(stu)"
      ],
      "metadata": {
        "colab": {
          "base_uri": "https://localhost:8080/"
        },
        "id": "EaJxLws4M07a",
        "outputId": "7d170f0e-e314-49a9-9db9-85a53731189d"
      },
      "execution_count": null,
      "outputs": [
        {
          "output_type": "stream",
          "name": "stdout",
          "text": [
            "[['Geoffery Hinton', 95, 65, 90, 82.0], ['Yann Lecun', 80, 85, 90, 84.0], ['Yoshua Bengio', 92, 88, 84, 88.8], ['Andrew Ng', 75, 85, 100, 84.0]]\n"
          ]
        }
      ]
    },
    {
      "cell_type": "code",
      "source": [
        "# 다음의 email 작성하시오. 변수를 활용하여 첫 학생의 이름과 합산 점수를 출력하세요. \n",
        "email = \"\"\"\n",
        "Hello, {0}\n",
        "\n",
        "{0}의 이번학기 성적은 {1}입니다.\n",
        "\n",
        "수고하셨습니다. \n",
        "\n",
        "\"\"\"\n",
        "\n",
        "print(email.format(stu[0][0],stu[0][4]))"
      ],
      "metadata": {
        "colab": {
          "base_uri": "https://localhost:8080/"
        },
        "id": "2UW3L-TFNAbv",
        "outputId": "f6ee09da-6751-4199-cae9-d85a7bc1be94"
      },
      "execution_count": null,
      "outputs": [
        {
          "output_type": "stream",
          "name": "stdout",
          "text": [
            "\n",
            "Hello, Geoffery Hinton\n",
            "\n",
            "Geoffery Hinton의 이번학기 성적은 82.0입니다.\n",
            "\n",
            "수고하셨습니다. \n",
            "\n",
            "\n"
          ]
        }
      ]
    },
    {
      "cell_type": "markdown",
      "source": [
        "### **과제 02.**\n",
        "\n",
        "\n"
      ],
      "metadata": {
        "id": "9LG_tuJ7OOkv"
      }
    },
    {
      "cell_type": "code",
      "source": [
        "for  i in [1,2,3]:\n",
        "    print(i)\n",
        "print(i)"
      ],
      "metadata": {
        "colab": {
          "base_uri": "https://localhost:8080/"
        },
        "id": "_jCLEZSuNmgp",
        "outputId": "5ac9849c-4a96-4bd5-b8e1-42f4845bf7cc"
      },
      "execution_count": null,
      "outputs": [
        {
          "output_type": "stream",
          "name": "stdout",
          "text": [
            "1\n",
            "2\n",
            "3\n",
            "3\n"
          ]
        }
      ]
    },
    {
      "cell_type": "code",
      "source": [
        "for j in range(2): #0, 1\n",
        "    for i in range(5): #0, 1,2,3,4 \n",
        "        print('*', end='')\n",
        "    print()"
      ],
      "metadata": {
        "colab": {
          "base_uri": "https://localhost:8080/"
        },
        "id": "Y2B8Gx7OOoY0",
        "outputId": "ef810a98-ba82-4d92-d5f4-962cfc231690"
      },
      "execution_count": null,
      "outputs": [
        {
          "output_type": "stream",
          "name": "stdout",
          "text": [
            "*****\n",
            "*****\n"
          ]
        }
      ]
    },
    {
      "cell_type": "code",
      "source": [
        "for j in range(6):\n",
        "    for i in range(j): \n",
        "        print(j, i)\n",
        "    print()"
      ],
      "metadata": {
        "colab": {
          "base_uri": "https://localhost:8080/"
        },
        "id": "DUbtXXBYOpim",
        "outputId": "5cf43754-46c9-47b9-a34a-0e902d54b95f"
      },
      "execution_count": null,
      "outputs": [
        {
          "output_type": "stream",
          "name": "stdout",
          "text": [
            "\n",
            "1 0\n",
            "\n",
            "2 0\n",
            "2 1\n",
            "\n",
            "3 0\n",
            "3 1\n",
            "3 2\n",
            "\n",
            "4 0\n",
            "4 1\n",
            "4 2\n",
            "4 3\n",
            "\n",
            "5 0\n",
            "5 1\n",
            "5 2\n",
            "5 3\n",
            "5 4\n",
            "\n"
          ]
        }
      ]
    },
    {
      "cell_type": "code",
      "source": [
        "# 위의 코드를 변형하여 다음 모양을 출력해보자\n",
        "# 1. \n",
        "# *\n",
        "# **\n",
        "# ***\n",
        "# ****\n",
        "# *****\n",
        "\n",
        "\n",
        "# 2. \n",
        "# *****\n",
        "# ****\n",
        "# ***\n",
        "# **\n",
        "# *\n",
        "\n",
        "# 3.\n",
        "# *\n",
        "# **\n",
        "# ***\n",
        "# ****\n",
        "# *****\n",
        "# ******\n",
        "# *****\n",
        "# ****\n",
        "# ***\n",
        "# **\n",
        "# *\n",
        "\n",
        "# 1\n",
        "for j in range(6): \n",
        "    for i in range(j): \n",
        "        print('*', end='')\n",
        "    print()\n",
        "\n",
        "print()\n",
        "\n",
        "# 2\n",
        "for j in range(5):\n",
        "    for i in range(5-j):\n",
        "        print('*', end='')\n",
        "    print()\n",
        "\n",
        "print()\n",
        "\n",
        "# 3\n",
        "\n",
        "for j in range(12):\n",
        "    if j <7 :\n",
        "      for i in range(j): \n",
        "        print('*', end='')\n",
        "        \n",
        "    else:\n",
        "         for i in range(12-j): \n",
        "          print('*', end='')\n",
        "    print()\n",
        "    \n",
        "\n",
        "print()"
      ],
      "metadata": {
        "colab": {
          "base_uri": "https://localhost:8080/"
        },
        "id": "wGekPZQbOwWG",
        "outputId": "45dc7825-d079-4d36-97a2-b464a7d3a572"
      },
      "execution_count": null,
      "outputs": [
        {
          "output_type": "stream",
          "name": "stdout",
          "text": [
            "\n",
            "*\n",
            "**\n",
            "***\n",
            "****\n",
            "*****\n",
            "\n",
            "*****\n",
            "****\n",
            "***\n",
            "**\n",
            "*\n",
            "\n",
            "\n",
            "*\n",
            "**\n",
            "***\n",
            "****\n",
            "*****\n",
            "******\n",
            "*****\n",
            "****\n",
            "***\n",
            "**\n",
            "*\n",
            "\n"
          ]
        }
      ]
    },
    {
      "cell_type": "code",
      "source": [
        "# 각 리스트의 요소는 name, midterm, quiz, final입니다. \n",
        "stu01 = [\"Geoffery Hinton\", 95, 65, 90]\n",
        "stu02 = [\"Yann Lecun\", 80, 85, 90]\n",
        "stu03 = [\"Yoshua Bengio\", 92, 88, 84]\n",
        "stu04 = [\"Andrew Ng\", 75, 85, 100]\n",
        "\n",
        "# 학생들의 midterm, quiz, final요소만 slicing 해서 mqf 라는 새로운 list를 구문을 완성하세요.\n",
        "stu = [stu01, stu02, stu03, stu04]\n",
        "# # 2차원 리스트 요소 조회\n",
        "# stu[1][0]\n",
        "# stu[0][1]\n",
        "# stu[:][1]\n",
        "# stu[1][:]\n",
        "\n",
        "mqf = []\n",
        "\n",
        "\n",
        "for i in range(4):\n",
        " \n",
        "  for j in range(4):\n",
        "    \n",
        "    if type(stu[i][j]) == type(0):\n",
        "      mqf.append(stu[i][j])\n",
        "      \n",
        "\n",
        "print(mqf)"
      ],
      "metadata": {
        "colab": {
          "base_uri": "https://localhost:8080/"
        },
        "id": "dhROwJyWO40U",
        "outputId": "c5c63a1d-240f-4b50-9566-d462cf91a2c0"
      },
      "execution_count": null,
      "outputs": [
        {
          "output_type": "stream",
          "name": "stdout",
          "text": [
            "[95, 65, 90, 80, 85, 90, 92, 88, 84, 75, 85, 100]\n"
          ]
        }
      ]
    },
    {
      "cell_type": "markdown",
      "source": [
        "### **과제 03.**"
      ],
      "metadata": {
        "id": "YcUGHF_dSj7S"
      }
    },
    {
      "cell_type": "code",
      "source": [
        "# 1. 두 개의 정수 값을 받아 평균을 구하는 함수를 작성하세요.\n",
        "def get_average(x,y):\n",
        "  return (x+y)/2\n",
        "\n",
        "\n",
        "\n",
        "print(get_average(3, 5))"
      ],
      "metadata": {
        "colab": {
          "base_uri": "https://localhost:8080/"
        },
        "id": "20ijAuedQjX2",
        "outputId": "bbeac1ed-9f40-446d-a0c7-53dea26d206e"
      },
      "execution_count": null,
      "outputs": [
        {
          "output_type": "stream",
          "name": "stdout",
          "text": [
            "4.0\n"
          ]
        }
      ]
    },
    {
      "cell_type": "code",
      "source": [
        "# 2. 리스트를 입력받아서 최소값과 최대값을 반환하는 함수를 작성하세요.\n",
        "def get_min(ls):\n",
        "    min=ls[0]\n",
        "   \n",
        "    for i in range(len(ls)):\n",
        "      if min > ls[i]:\n",
        "        min = ls[i]\n",
        "    return min\n",
        "\n",
        "    \n",
        "\n",
        "print(get_min([1, 2, 3, 4, 5]))"
      ],
      "metadata": {
        "colab": {
          "base_uri": "https://localhost:8080/"
        },
        "id": "7ESMIWBpS-x6",
        "outputId": "7feb3996-4ae9-4221-df93-4b18a5861607"
      },
      "execution_count": null,
      "outputs": [
        {
          "output_type": "stream",
          "name": "stdout",
          "text": [
            "1\n"
          ]
        }
      ]
    },
    {
      "cell_type": "code",
      "source": [
        "def get_max(ls):\n",
        "    max=ls[0]\n",
        "   \n",
        "    for i in range(len(ls)):\n",
        "      if max < ls[i]:\n",
        "        max = ls[i]\n",
        "    return max\n",
        "\n",
        "print(get_max([1, 2, 3, 4, 5]))"
      ],
      "metadata": {
        "colab": {
          "base_uri": "https://localhost:8080/"
        },
        "id": "4JCa9KXpTpcm",
        "outputId": "8a5af8b0-115a-4ea9-c5b3-2ca3a96391c6"
      },
      "execution_count": null,
      "outputs": [
        {
          "output_type": "stream",
          "name": "stdout",
          "text": [
            "5\n"
          ]
        }
      ]
    },
    {
      "cell_type": "code",
      "source": [
        "# 4. 각 리스트의 요소는 name, midterm, quiz, final입니다. \n",
        "stu = [[\"Geoffery Hinton\", 95, 65, 90],\n",
        "       [\"Yann Lecun\", 80, 85, 90],\n",
        "       [\"Yoshua Bengio\", 92, 88, 84],\n",
        "       [\"Andrew Ng\", 75, 85, 100]]\n",
        "\n",
        "# 학점 규칙: 중간고사 35%, 기말고사 35%, 퀴즈 30%\n",
        "# total을 계산하는 함수를 생성하세요. \n",
        "def total(a,b,c):\n",
        "  for i in range(len(stu)):\n",
        "    print(\"%s의 total은 %f 입니다\" % (stu[i][0],stu[i][1]*a/100+stu[i][2]*b/100+stu[i][3]*c/100)) \n",
        "\n",
        "\n",
        "  return \n",
        "\n",
        "\n",
        "total(35, 30, 35)"
      ],
      "metadata": {
        "colab": {
          "base_uri": "https://localhost:8080/"
        },
        "id": "wGq10mslUZmB",
        "outputId": "f9aa049e-38ee-4cb5-a303-c2b21df422e4"
      },
      "execution_count": null,
      "outputs": [
        {
          "output_type": "stream",
          "name": "stdout",
          "text": [
            "Geoffery Hinton의 total은 84.250000 입니다\n",
            "Yann Lecun의 total은 85.000000 입니다\n",
            "Yoshua Bengio의 total은 88.000000 입니다\n",
            "Andrew Ng의 total은 86.750000 입니다\n"
          ]
        }
      ]
    },
    {
      "cell_type": "code",
      "source": [
        "# 학점 규칙: 중간고사 35%, 기말고사 35%, 퀴즈 30%\n",
        "# 앞의 stu 리스트중 한 명의 것을 입력 받아, 이름과 성적을 계산하는 total2 함수를 생성하세요.\n",
        "\n",
        "def total2(s):\n",
        "    r= s[1] * 0.35 + s[2]*0.3 + s[3]*0.35\n",
        "    name = s[0]\n",
        "    return name, r\n",
        "    \n",
        "name, score = total2(stu[1])\n",
        "print(name, score)"
      ],
      "metadata": {
        "colab": {
          "base_uri": "https://localhost:8080/"
        },
        "id": "VZbEQq_5WKUU",
        "outputId": "69ccf5d6-6b98-4f05-aafb-cd757fb1e841"
      },
      "execution_count": null,
      "outputs": [
        {
          "output_type": "stream",
          "name": "stdout",
          "text": [
            "Yann Lecun 85.0\n"
          ]
        }
      ]
    },
    {
      "cell_type": "code",
      "source": [
        "# 직전의 함수를 사용하여 stu긔 각 사람별로 이름과 성적을 출력하세요.\n",
        "print( total2(stu[0]) )\n",
        "print( total2(stu[1]) )\n",
        "print( total2(stu[2]) )\n",
        "print( total2(stu[3]) )\n"
      ],
      "metadata": {
        "colab": {
          "base_uri": "https://localhost:8080/"
        },
        "id": "ufyrMG1PWg2R",
        "outputId": "94fc3bd2-bbd2-4ce1-f60d-1529ddd69acb"
      },
      "execution_count": null,
      "outputs": [
        {
          "output_type": "stream",
          "name": "stdout",
          "text": [
            "('Geoffery Hinton', 84.25)\n",
            "('Yann Lecun', 85.0)\n",
            "('Yoshua Bengio', 88.0)\n",
            "('Andrew Ng', 86.75)\n"
          ]
        }
      ]
    },
    {
      "cell_type": "code",
      "source": [
        "# for문을 이용하여 stu 모든 학생들의 total 결과를 st list에 차례로 담으세요. \n",
        "# 앞에서 만든 total2 함수를 사용하세요.\n",
        "st = []\n",
        "for i in stu:\n",
        "    # print(total2(i))\n",
        "    st.append(total2(i))\n",
        "    # print(st)\n",
        "\n",
        "print(st)"
      ],
      "metadata": {
        "colab": {
          "base_uri": "https://localhost:8080/"
        },
        "id": "OHdEFpy7Wm3n",
        "outputId": "b8003117-5900-40c1-c2b5-69571bc4a6c1"
      },
      "execution_count": null,
      "outputs": [
        {
          "output_type": "stream",
          "name": "stdout",
          "text": [
            "[('Geoffery Hinton', 84.25), ('Yann Lecun', 85.0), ('Yoshua Bengio', 88.0), ('Andrew Ng', 86.75)]\n"
          ]
        }
      ]
    },
    {
      "cell_type": "code",
      "source": [
        "# 점수에 해당하는 grade를 반환하는 함수를 만드세요. \n",
        "# 90이상 A, 80이상 B, 70 이상 C, 나머지는 F\n",
        "def grade(s):\n",
        "    if s>= 90:\n",
        "        g = 'A'\n",
        "    elif s>= 80:\n",
        "        g = 'B'\n",
        "    elif s>= 70:\n",
        "        g = 'C'\n",
        "    else:\n",
        "        g = 'F'\n",
        "    return g\n",
        "\n",
        "print(grade(75))\n",
        "print(grade(60))\n",
        "print(grade(91))"
      ],
      "metadata": {
        "colab": {
          "base_uri": "https://localhost:8080/"
        },
        "id": "DqXmLXxaWvlt",
        "outputId": "3a58e2d9-9d08-4d4a-a75f-bb4b61cd759d"
      },
      "execution_count": null,
      "outputs": [
        {
          "output_type": "stream",
          "name": "stdout",
          "text": [
            "C\n",
            "F\n",
            "A\n"
          ]
        }
      ]
    },
    {
      "cell_type": "code",
      "source": [],
      "metadata": {
        "id": "nyOIEliXWz0s"
      },
      "execution_count": null,
      "outputs": []
    }
  ]
}