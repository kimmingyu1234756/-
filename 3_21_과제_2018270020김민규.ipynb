{
  "nbformat": 4,
  "nbformat_minor": 0,
  "metadata": {
    "colab": {
      "provenance": [],
      "toc_visible": true
    },
    "kernelspec": {
      "name": "python3",
      "display_name": "Python 3"
    },
    "language_info": {
      "name": "python"
    }
  },
  "cells": [
    {
      "cell_type": "markdown",
      "source": [
        "## 텐서플로란?\n",
        "\n",
        "- 머신러닝을 사용하기 위한 라이브러리"
      ],
      "metadata": {
        "id": "T17DIwZ70NPw"
      }
    },
    {
      "cell_type": "markdown",
      "source": [
        "## 케라스란?\n",
        "\n",
        "- 딥러닝을 사용하기 위해서 유용하게 구성되어있는 API"
      ],
      "metadata": {
        "id": "OdWD8DPQ0UR0"
      }
    },
    {
      "cell_type": "markdown",
      "source": [
        "## 텐서플로 시작하기"
      ],
      "metadata": {
        "id": "f2mD4z1y0c5T"
      }
    },
    {
      "cell_type": "markdown",
      "source": [
        "#### 상수 텐서와 변수"
      ],
      "metadata": {
        "id": "T5Q4P1600e5D"
      }
    },
    {
      "cell_type": "markdown",
      "source": [
        "**모두 1 또는 모두 0인 텐서**"
      ],
      "metadata": {
        "id": "OZZlpmni0lY5"
      }
    },
    {
      "cell_type": "code",
      "execution_count": null,
      "metadata": {
        "colab": {
          "base_uri": "https://localhost:8080/"
        },
        "id": "96YjqJZOw4s9",
        "outputId": "192be503-2fdd-45bf-9e74-554669e089cb"
      },
      "outputs": [
        {
          "output_type": "stream",
          "name": "stdout",
          "text": [
            "tf.Tensor(\n",
            "[[1.]\n",
            " [1.]], shape=(2, 1), dtype=float32)\n"
          ]
        }
      ],
      "source": [
        "import tensorflow as tf\n",
        "x = tf.ones(shape=(2, 1))\n",
        "print(x)\n",
        "\n",
        "# 모두 1"
      ]
    },
    {
      "cell_type": "code",
      "source": [
        "x = tf.zeros(shape=(2, 1))\n",
        "print(x)\n",
        "\n",
        "# 모두 0\n"
      ],
      "metadata": {
        "colab": {
          "base_uri": "https://localhost:8080/"
        },
        "id": "q3qMI9UC02Ec",
        "outputId": "f55024e9-f068-4cb7-db0d-7a05376fdd59"
      },
      "execution_count": null,
      "outputs": [
        {
          "output_type": "stream",
          "name": "stdout",
          "text": [
            "tf.Tensor(\n",
            "[[0.]\n",
            " [0.]], shape=(2, 1), dtype=float32)\n"
          ]
        }
      ]
    },
    {
      "cell_type": "markdown",
      "source": [
        "**랜덤 텐서**"
      ],
      "metadata": {
        "id": "9MY7frZA1lcC"
      }
    },
    {
      "cell_type": "code",
      "source": [
        "x = tf.random.normal(shape=(3, 1), mean=0., stddev=1.)\n",
        "print(x)\n",
        "\n",
        "# 랜덤값. 정규분포"
      ],
      "metadata": {
        "colab": {
          "base_uri": "https://localhost:8080/"
        },
        "id": "FLcEQHVr06HH",
        "outputId": "7b9d0102-24e7-4699-89b8-972e11f67341"
      },
      "execution_count": null,
      "outputs": [
        {
          "output_type": "stream",
          "name": "stdout",
          "text": [
            "tf.Tensor(\n",
            "[[ 0.7739098]\n",
            " [-0.704533 ]\n",
            " [-0.1297141]], shape=(3, 1), dtype=float32)\n"
          ]
        }
      ]
    },
    {
      "cell_type": "code",
      "source": [
        "x = tf.random.uniform(shape=(3, 1), minval=0., maxval=1.)\n",
        "print(x)\n",
        "\n",
        "# 두 숫자 사이에서 랜덤하게 찾기"
      ],
      "metadata": {
        "colab": {
          "base_uri": "https://localhost:8080/"
        },
        "id": "c1H2Nixm1c_v",
        "outputId": "f8d55573-98f8-42ed-cff8-9ce15bbcae92"
      },
      "execution_count": null,
      "outputs": [
        {
          "output_type": "stream",
          "name": "stdout",
          "text": [
            "tf.Tensor(\n",
            "[[0.18281317]\n",
            " [0.47518623]\n",
            " [0.16308796]], shape=(3, 1), dtype=float32)\n"
          ]
        }
      ]
    },
    {
      "cell_type": "markdown",
      "source": [
        "**넘파이 배열에 값 할당하기**"
      ],
      "metadata": {
        "id": "OSi7OjPY2EAo"
      }
    },
    {
      "cell_type": "code",
      "source": [
        "import numpy as np\n",
        "x = np.ones(shape=(2, 2))\n",
        "x[0, 0] = 0.\n",
        "print(x)\n",
        "\n",
        "#  특정 위치에 값 할당 "
      ],
      "metadata": {
        "colab": {
          "base_uri": "https://localhost:8080/"
        },
        "id": "pK-etREh1yoh",
        "outputId": "d512d435-85f0-484d-885e-e59b69ab075e"
      },
      "execution_count": null,
      "outputs": [
        {
          "output_type": "stream",
          "name": "stdout",
          "text": [
            "[[0. 1.]\n",
            " [1. 1.]]\n"
          ]
        }
      ]
    },
    {
      "cell_type": "markdown",
      "source": [
        "**텐서플로 변수 만들기**"
      ],
      "metadata": {
        "id": "sn98Tx1x2XXC"
      }
    },
    {
      "cell_type": "code",
      "source": [
        "v = tf.Variable(initial_value=tf.random.normal(shape=(3, 1)))\n",
        "print(v)\n",
        "\n",
        "# 텐서인데 값이 변경가능. 원래는 안되는 걸로"
      ],
      "metadata": {
        "colab": {
          "base_uri": "https://localhost:8080/"
        },
        "id": "nIVXHJA_13U_",
        "outputId": "c48c3624-b8e3-4ae6-bb19-9baabe9b8d8b"
      },
      "execution_count": null,
      "outputs": [
        {
          "output_type": "stream",
          "name": "stdout",
          "text": [
            "<tf.Variable 'Variable:0' shape=(3, 1) dtype=float32, numpy=\n",
            "array([[-0.16022283],\n",
            "       [ 0.18039992],\n",
            "       [-0.15516429]], dtype=float32)>\n"
          ]
        }
      ]
    },
    {
      "cell_type": "code",
      "source": [
        "v.assign(tf.ones((3, 1)))\n",
        "\n",
        "# 값 할당!"
      ],
      "metadata": {
        "colab": {
          "base_uri": "https://localhost:8080/"
        },
        "id": "boTuBdjc2LxI",
        "outputId": "f38f6046-3db7-48ba-bd58-c63706c51c79"
      },
      "execution_count": null,
      "outputs": [
        {
          "output_type": "execute_result",
          "data": {
            "text/plain": [
              "<tf.Variable 'UnreadVariable' shape=(3, 1) dtype=float32, numpy=\n",
              "array([[1.],\n",
              "       [1.],\n",
              "       [1.]], dtype=float32)>"
            ]
          },
          "metadata": {},
          "execution_count": 10
        }
      ]
    },
    {
      "cell_type": "markdown",
      "source": [
        "**변수 일부에 값 할당하기**"
      ],
      "metadata": {
        "id": "Gcncx5TD2fP9"
      }
    },
    {
      "cell_type": "code",
      "source": [
        "v[0, 0].assign(3.)\n",
        "\n",
        "# 특정 위치에 값 할당"
      ],
      "metadata": {
        "colab": {
          "base_uri": "https://localhost:8080/"
        },
        "id": "xlGwrJfe2bih",
        "outputId": "46be1643-e708-4442-e401-577154f4aaba"
      },
      "execution_count": null,
      "outputs": [
        {
          "output_type": "execute_result",
          "data": {
            "text/plain": [
              "<tf.Variable 'UnreadVariable' shape=(3, 1) dtype=float32, numpy=\n",
              "array([[3.],\n",
              "       [1.],\n",
              "       [1.]], dtype=float32)>"
            ]
          },
          "metadata": {},
          "execution_count": 11
        }
      ]
    },
    {
      "cell_type": "markdown",
      "source": [
        "**`assign_add` 사용하기**\n",
        "\n",
        "- 위에 처럼 하는 방식은 백틱사용"
      ],
      "metadata": {
        "id": "1uoUzzfH2ocq"
      }
    },
    {
      "cell_type": "code",
      "source": [
        "v.assign_add(tf.ones((3, 1)))"
      ],
      "metadata": {
        "colab": {
          "base_uri": "https://localhost:8080/"
        },
        "id": "caqShBdn2gWZ",
        "outputId": "34261da0-fa95-4ff2-adf4-1f0d3b61bf79"
      },
      "execution_count": null,
      "outputs": [
        {
          "output_type": "execute_result",
          "data": {
            "text/plain": [
              "<tf.Variable 'UnreadVariable' shape=(3, 1) dtype=float32, numpy=\n",
              "array([[4.],\n",
              "       [2.],\n",
              "       [2.]], dtype=float32)>"
            ]
          },
          "metadata": {},
          "execution_count": 12
        }
      ]
    },
    {
      "cell_type": "markdown",
      "source": [
        "#### 텐서 연산: 텐서플로에서 수학 계산하기"
      ],
      "metadata": {
        "id": "9uysy3zB22LY"
      }
    },
    {
      "cell_type": "code",
      "source": [
        "a = tf.ones((2, 2))\n",
        "b = tf.square(a) # 제곱\n",
        "c = tf.sqrt(a) # 루트\n",
        "d = b + c # 더하기\n",
        "e = tf.matmul(a, b) # 행렬 곱\n",
        "e *= d # 원소 곱"
      ],
      "metadata": {
        "id": "Srnpdnqf2z9X"
      },
      "execution_count": null,
      "outputs": []
    },
    {
      "cell_type": "markdown",
      "source": [
        "#### GradientTape API 다시 살펴 보기"
      ],
      "metadata": {
        "id": "uGJIetNu33O4"
      }
    },
    {
      "cell_type": "code",
      "source": [
        "input_var = tf.Variable(initial_value=3.)\n",
        "with tf.GradientTape() as tape:\n",
        "   result = tf.square(input_var)\n",
        "gradient = tape.gradient(result, input_var)\n",
        "print(gradient)\n",
        " # 원하는 함수에 대하야 gradient 계산"
      ],
      "metadata": {
        "colab": {
          "base_uri": "https://localhost:8080/"
        },
        "id": "5Nwk7pjy23Xk",
        "outputId": "4657bfc9-5998-48de-9623-e0c8bccc6163"
      },
      "execution_count": null,
      "outputs": [
        {
          "output_type": "stream",
          "name": "stdout",
          "text": [
            "tf.Tensor(6.0, shape=(), dtype=float32)\n"
          ]
        }
      ]
    },
    {
      "cell_type": "code",
      "source": [
        "time = tf.Variable(0.)\n",
        "with tf.GradientTape() as outer_tape:\n",
        "    with tf.GradientTape() as inner_tape:\n",
        "        position =  4.9 * time ** 2\n",
        "    speed = inner_tape.gradient(position, time)\n",
        "acceleration = outer_tape.gradient(speed, time)\n",
        "print(speed,acceleration)"
      ],
      "metadata": {
        "colab": {
          "base_uri": "https://localhost:8080/"
        },
        "id": "rb5Deqwm34zi",
        "outputId": "2d7c109e-cdb1-4e8c-bf25-9155adec447a"
      },
      "execution_count": null,
      "outputs": [
        {
          "output_type": "stream",
          "name": "stdout",
          "text": [
            "tf.Tensor(0.0, shape=(), dtype=float32) tf.Tensor(9.8, shape=(), dtype=float32)\n"
          ]
        }
      ]
    },
    {
      "cell_type": "markdown",
      "source": [
        "#### 엔드-투-엔드 예제: 텐서플로 선형 분류기"
      ],
      "metadata": {
        "id": "QqNBWO-W415W"
      }
    },
    {
      "cell_type": "markdown",
      "source": [
        "**2D 평면에 두 클래스의 랜덤한 포인트 생성하기**"
      ],
      "metadata": {
        "id": "a5uXwPaM5KFV"
      }
    },
    {
      "cell_type": "code",
      "source": [
        "num_samples_per_class = 1000\n",
        "negative_samples = np.random.multivariate_normal(\n",
        "    mean=[0, 3],\n",
        "    cov=[[1, 0.5],[0.5, 1]],\n",
        "    size=num_samples_per_class)\n",
        "positive_samples = np.random.multivariate_normal(\n",
        "    mean=[3, 0],\n",
        "    cov=[[1, 0.5],[0.5, 1]],\n",
        "    size=num_samples_per_class)\n",
        "print(negative_samples)\n",
        "print(positive_samples)"
      ],
      "metadata": {
        "colab": {
          "base_uri": "https://localhost:8080/"
        },
        "id": "3CJ10YM94nGQ",
        "outputId": "b800336b-5437-45e0-e7ca-57e43c35cd57"
      },
      "execution_count": null,
      "outputs": [
        {
          "output_type": "stream",
          "name": "stdout",
          "text": [
            "[[-0.51476442  3.36392971]\n",
            " [-0.94116056  2.81104101]\n",
            " [-1.18663733  2.65606517]\n",
            " ...\n",
            " [ 1.35357992  4.41283923]\n",
            " [-1.03462702  2.46407815]\n",
            " [-0.80031189  2.14492794]]\n",
            "[[ 2.89010284 -0.2768751 ]\n",
            " [ 3.8457894   0.4416254 ]\n",
            " [ 2.53146951 -0.45771029]\n",
            " ...\n",
            " [ 3.22853738  1.49285586]\n",
            " [ 3.33512738 -1.3758338 ]\n",
            " [ 2.57770354  0.43576616]]\n"
          ]
        }
      ]
    },
    {
      "cell_type": "markdown",
      "source": [
        "**두 클래스를 (2000, 2) 크기의 한 배열로 쌓기**"
      ],
      "metadata": {
        "id": "AlZ898OB5Ox3"
      }
    },
    {
      "cell_type": "code",
      "source": [
        "inputs = np.vstack((negative_samples, positive_samples)).astype(np.float32)\n",
        "print(inputs.shape)"
      ],
      "metadata": {
        "colab": {
          "base_uri": "https://localhost:8080/"
        },
        "id": "hSqQ8r4d43GN",
        "outputId": "e97ab686-ff58-4b91-8f64-31e2cafd3999"
      },
      "execution_count": null,
      "outputs": [
        {
          "output_type": "stream",
          "name": "stdout",
          "text": [
            "(2000, 2)\n"
          ]
        }
      ]
    },
    {
      "cell_type": "code",
      "source": [
        "targets = np.vstack((np.zeros((num_samples_per_class, 1), dtype=\"float32\"),\n",
        "                     np.ones((num_samples_per_class, 1), dtype=\"float32\")))\n",
        "print(targets.shape)"
      ],
      "metadata": {
        "colab": {
          "base_uri": "https://localhost:8080/"
        },
        "id": "sSalJ2Y35QG1",
        "outputId": "bdb4f7db-6983-4215-fe48-8dee7b572f4e"
      },
      "execution_count": null,
      "outputs": [
        {
          "output_type": "stream",
          "name": "stdout",
          "text": [
            "(2000, 1)\n"
          ]
        }
      ]
    },
    {
      "cell_type": "markdown",
      "source": [
        "**두 클래스의 포인트를 그래프로 그리기**"
      ],
      "metadata": {
        "id": "Af4YpBeT5fNM"
      }
    },
    {
      "cell_type": "code",
      "source": [
        "import matplotlib.pyplot as plt\n",
        "plt.scatter(inputs[:, 0], inputs[:, 1], c=targets[:, 0])\n",
        "plt.show()\n",
        "\n",
        "# 예전에 plot 사용했던거 같이 확인하면 좋음."
      ],
      "metadata": {
        "colab": {
          "base_uri": "https://localhost:8080/",
          "height": 265
        },
        "id": "Xjo5mf265Ro4",
        "outputId": "ab52aad0-68f5-4dfc-db3f-a2b41a819881"
      },
      "execution_count": null,
      "outputs": [
        {
          "output_type": "display_data",
          "data": {
            "text/plain": [
              "<Figure size 432x288 with 1 Axes>"
            ],
            "image/png": "[encoded data removed]"
          },
          "metadata": {
            "needs_background": "light"
          }
        }
      ]
    },
    {
      "cell_type": "code",
      "source": [
        "input_dim = 2\n",
        "output_dim = 1\n",
        "W = tf.Variable(initial_value=tf.random.uniform(shape=(input_dim, output_dim)))\n",
        "b = tf.Variable(initial_value=tf.zeros(shape=(output_dim,)))\n",
        "\n",
        "# 선형분류기 변수 생성"
      ],
      "metadata": {
        "id": "kYot84Hg5dyH"
      },
      "execution_count": null,
      "outputs": []
    },
    {
      "cell_type": "code",
      "source": [
        "def model(inputs):\n",
        "    return tf.matmul(inputs, W) + b\n",
        "\n",
        "    # 함수 정의"
      ],
      "metadata": {
        "id": "Ww2PbVBp5mes"
      },
      "execution_count": null,
      "outputs": []
    },
    {
      "cell_type": "code",
      "source": [
        "def square_loss(targets, predictions):\n",
        "    per_sample_losses = tf.square(targets - predictions)\n",
        "    return tf.reduce_mean(per_sample_losses)\n",
        "\n",
        "    # 손실함수 정의"
      ],
      "metadata": {
        "id": "QO1o9jn35qRw"
      },
      "execution_count": null,
      "outputs": []
    },
    {
      "cell_type": "code",
      "source": [
        "learning_rate = 0.1\n",
        "\n",
        "def training_step(inputs, targets):\n",
        "    with tf.GradientTape() as tape:\n",
        "        predictions = model(inputs)\n",
        "        loss = square_loss(targets, predictions)\n",
        "    grad_loss_wrt_W, grad_loss_wrt_b = tape.gradient(loss, [W, b])\n",
        "    W.assign_sub(grad_loss_wrt_W * learning_rate)\n",
        "    b.assign_sub(grad_loss_wrt_b * learning_rate)\n",
        "    return loss\n",
        "\n",
        "    # 훈련과정 정의"
      ],
      "metadata": {
        "id": "9xqDPeOJ5sKh"
      },
      "execution_count": null,
      "outputs": []
    },
    {
      "cell_type": "code",
      "source": [
        "for step in range(40):\n",
        "    loss = training_step(inputs, targets)\n",
        "    print(f\"{step}번째 스텝의 손실: {loss:.4f}\")\n",
        "    # 총 40번 반복의 훈련"
      ],
      "metadata": {
        "colab": {
          "base_uri": "https://localhost:8080/"
        },
        "id": "tI2AeaqB5uuw",
        "outputId": "c56b9ef9-b9ac-471c-e92f-86b5da7cbbaf"
      },
      "execution_count": null,
      "outputs": [
        {
          "output_type": "stream",
          "name": "stdout",
          "text": [
            "0번째 스텝의 손실: 6.8215\n",
            "1번째 스텝의 손실: 1.0397\n",
            "2번째 스텝의 손실: 0.2942\n",
            "3번째 스텝의 손실: 0.1665\n",
            "4번째 스텝의 손실: 0.1378\n",
            "5번째 스텝의 손실: 0.1255\n",
            "6번째 스텝의 손실: 0.1165\n",
            "7번째 스텝의 손실: 0.1086\n",
            "8번째 스텝의 손실: 0.1014\n",
            "9번째 스텝의 손실: 0.0949\n",
            "10번째 스텝의 손실: 0.0889\n",
            "11번째 스텝의 손실: 0.0834\n",
            "12번째 스텝의 손실: 0.0784\n",
            "13번째 스텝의 손실: 0.0738\n",
            "14번째 스텝의 손실: 0.0696\n",
            "15번째 스텝의 손실: 0.0657\n",
            "16번째 스텝의 손실: 0.0622\n",
            "17번째 스텝의 손실: 0.0590\n",
            "18번째 스텝의 손실: 0.0561\n",
            "19번째 스텝의 손실: 0.0534\n",
            "20번째 스텝의 손실: 0.0509\n",
            "21번째 스텝의 손실: 0.0486\n",
            "22번째 스텝의 손실: 0.0466\n",
            "23번째 스텝의 손실: 0.0447\n",
            "24번째 스텝의 손실: 0.0429\n",
            "25번째 스텝의 손실: 0.0414\n",
            "26번째 스텝의 손실: 0.0399\n",
            "27번째 스텝의 손실: 0.0386\n",
            "28번째 스텝의 손실: 0.0374\n",
            "29번째 스텝의 손실: 0.0363\n",
            "30번째 스텝의 손실: 0.0352\n",
            "31번째 스텝의 손실: 0.0343\n",
            "32번째 스텝의 손실: 0.0335\n",
            "33번째 스텝의 손실: 0.0327\n",
            "34번째 스텝의 손실: 0.0320\n",
            "35번째 스텝의 손실: 0.0313\n",
            "36번째 스텝의 손실: 0.0307\n",
            "37번째 스텝의 손실: 0.0302\n",
            "38번째 스텝의 손실: 0.0297\n",
            "39번째 스텝의 손실: 0.0292\n"
          ]
        }
      ]
    },
    {
      "cell_type": "code",
      "source": [
        "predictions = model(inputs)\n",
        "plt.scatter(inputs[:, 0], inputs[:, 1], c=predictions[:, 0] > 0.5)\n",
        "plt.show()"
      ],
      "metadata": {
        "colab": {
          "base_uri": "https://localhost:8080/",
          "height": 265
        },
        "id": "pSIpiFsT5xO9",
        "outputId": "f49fc187-2ef8-4fa9-801f-38d2685398d5"
      },
      "execution_count": null,
      "outputs": [
        {
          "output_type": "display_data",
          "data": {
            "text/plain": [
              "<Figure size 432x288 with 1 Axes>"
            ],
            "image/png": "[encoded data removed]"
          },
          "metadata": {
            "needs_background": "light"
          }
        }
      ]
    },
    {
      "cell_type": "code",
      "source": [
        "x = np.linspace(-1, 4)\n",
        "# 사실 100개의 x 축 좌표를 만들 필요 없이 시작과 종료 위치만 있어도 됩니다.\n",
        "\n",
        "# 그래서 한번 해보았습니다\n",
        "\n",
        "# x = [-1, 4]\n",
        "y = - W[0] /  W[1] * x + (0.5 - b) / W[1]\n",
        "plt.plot(x, y, \"-r\")\n",
        "plt.scatter(inputs[:, 0], inputs[:, 1], c=predictions[:, 0] > 0.5)\n",
        "plt.show()"
      ],
      "metadata": {
        "colab": {
          "base_uri": "https://localhost:8080/",
          "height": 265
        },
        "id": "ISQ7rJfh6JR5",
        "outputId": "8895a8a5-5399-40e3-900a-390414a5bea6"
      },
      "execution_count": null,
      "outputs": [
        {
          "output_type": "display_data",
          "data": {
            "text/plain": [
              "<Figure size 432x288 with 1 Axes>"
            ],
            "image/png": "[encoded data removed]"
          },
          "metadata": {
            "needs_background": "light"
          }
        }
      ]
    },
    {
      "cell_type": "markdown",
      "source": [
        "## 신경망의 구조: 핵심 Keras API 이해하기\n",
        "\n",
        "- 위에서 했던걸 keras를 통해 구현"
      ],
      "metadata": {
        "id": "kvmZqngF6VxW"
      }
    },
    {
      "cell_type": "code",
      "source": [
        "from tensorflow import keras\n",
        "\n",
        "class SimpleDense(keras.layers.Layer):\n",
        "\n",
        "    def __init__(self, units, activation=None):\n",
        "        super().__init__()\n",
        "        self.units = units\n",
        "        self.activation = activation\n",
        "\n",
        "    def build(self, input_shape):\n",
        "        input_dim = input_shape[-1]\n",
        "        self.W = self.add_weight(shape=(input_dim, self.units),\n",
        "                                 initializer=\"random_normal\")\n",
        "        self.b = self.add_weight(shape=(self.units,),\n",
        "                                 initializer=\"zeros\")\n",
        "\n",
        "    def call(self, inputs):\n",
        "        y = tf.matmul(inputs, self.W) + self.b\n",
        "        if self.activation is not None:\n",
        "            y = self.activation(y)\n",
        "        return y\n",
        "\n",
        "        # 모델 쌓기\n",
        "        # input의 개수가 있고 원하는 출력이 있으면 그만큼 dence 하게 해준다\n",
        "        # "
      ],
      "metadata": {
        "id": "jVqmUhu86K0t"
      },
      "execution_count": null,
      "outputs": []
    },
    {
      "cell_type": "code",
      "source": [
        "my_dense = SimpleDense(units=32, activation=tf.nn.relu)\n",
        "input_tensor = tf.ones(shape=(2, 784))\n",
        "output_tensor = my_dense(input_tensor)\n",
        "print(output_tensor.shape)\n",
        "\n",
        "# dense layer는 모든 것들을 연결하는 역할\n",
        "# input이 784개면 32개로 내보내는 dence layer\n",
        "# 좀 앞과는 다른 코드라고 말씀"
      ],
      "metadata": {
        "colab": {
          "base_uri": "https://localhost:8080/"
        },
        "id": "jHwT7S5P6r37",
        "outputId": "e1042420-1d30-4e96-d251-76b471353a48"
      },
      "execution_count": null,
      "outputs": [
        {
          "output_type": "stream",
          "name": "stdout",
          "text": [
            "(2, 32)\n"
          ]
        }
      ]
    },
    {
      "cell_type": "markdown",
      "source": [
        "#### 자동 크기 추론: 동적으로 층 만들기"
      ],
      "metadata": {
        "id": "-0C8mGnb6yF2"
      }
    },
    {
      "cell_type": "code",
      "source": [
        "from tensorflow.keras import layers\n",
        "layer = layers.Dense(32, activation=\"relu\")"
      ],
      "metadata": {
        "id": "fzlKStHI6twB"
      },
      "execution_count": null,
      "outputs": []
    },
    {
      "cell_type": "code",
      "source": [
        "from tensorflow.keras import models\n",
        "from tensorflow.keras import layers\n",
        "model = models.Sequential([\n",
        "    layers.Dense(32, activation=\"relu\"),\n",
        "    layers.Dense(32)\n",
        "])\n",
        "\n",
        "# 32개로 쌓는 layer 두개를 sequential하게 만드는 모델\n",
        "# keras에서 주어주는 함수 사용"
      ],
      "metadata": {
        "id": "VcgxFWjP6wxN"
      },
      "execution_count": null,
      "outputs": []
    },
    {
      "cell_type": "code",
      "source": [
        "model = keras.Sequential([\n",
        "    SimpleDense(32, activation=\"relu\"),\n",
        "    SimpleDense(64, activation=\"relu\"),\n",
        "    SimpleDense(32, activation=\"relu\"),\n",
        "    SimpleDense(10, activation=\"softmax\")\n",
        "])\n",
        "\n",
        "# 앞에서 정의한 class 사용한것"
      ],
      "metadata": {
        "id": "z8TGYOgC6zEk"
      },
      "execution_count": null,
      "outputs": []
    },
    {
      "cell_type": "markdown",
      "source": [
        "### 층에서 모델로\n",
        "\n",
        "- “컴파일” 단계: 학습 과정 설정"
      ],
      "metadata": {
        "id": "tlunKH448NUg"
      }
    },
    {
      "cell_type": "code",
      "source": [
        "model = keras.Sequential([keras.layers.Dense(1)])\n",
        "model.compile(optimizer=\"rmsprop\",\n",
        "              loss=\"mean_squared_error\",\n",
        "              metrics=[\"accuracy\"])\n",
        "# 항상 gradient method 어떤거 쓸지, loss, metrics 뭘 쓸지 결정 "
      ],
      "metadata": {
        "id": "UWVNZEll6z6Q"
      },
      "execution_count": null,
      "outputs": []
    },
    {
      "cell_type": "code",
      "source": [
        "model.compile(optimizer=keras.optimizers.RMSprop(),\n",
        "              loss=keras.losses.MeanSquaredError(),\n",
        "              metrics=[keras.metrics.BinaryAccuracy()])"
      ],
      "metadata": {
        "id": "pleKtIlz8Rqw"
      },
      "execution_count": null,
      "outputs": []
    },
    {
      "cell_type": "code",
      "source": [
        "history = model.fit(\n",
        "    inputs,\n",
        "    targets,\n",
        "    epochs=5,\n",
        "    batch_size=128\n",
        ")\n",
        "# 데이터를 집어넣어서 fit 하면 학습이 돌아간다."
      ],
      "metadata": {
        "colab": {
          "base_uri": "https://localhost:8080/"
        },
        "id": "A9V7rFRY8Sn0",
        "outputId": "d8819103-1685-4771-8cc6-d039f3db2d62"
      },
      "execution_count": null,
      "outputs": [
        {
          "output_type": "stream",
          "name": "stdout",
          "text": [
            "Epoch 1/5\n",
            "16/16 [==============================] - 1s 7ms/step - loss: 12.7373 - binary_accuracy: 0.3260\n",
            "Epoch 2/5\n",
            "16/16 [==============================] - 0s 4ms/step - loss: 12.3293 - binary_accuracy: 0.3150\n",
            "Epoch 3/5\n",
            "16/16 [==============================] - 0s 5ms/step - loss: 11.9795 - binary_accuracy: 0.3075\n",
            "Epoch 4/5\n",
            "16/16 [==============================] - 0s 4ms/step - loss: 11.6498 - binary_accuracy: 0.3005\n",
            "Epoch 5/5\n",
            "16/16 [==============================] - 0s 6ms/step - loss: 11.3270 - binary_accuracy: 0.2950\n"
          ]
        }
      ]
    },
    {
      "cell_type": "markdown",
      "source": [
        "## 이 밑은 좀더 공부한 후에 살펴보기로 함"
      ],
      "metadata": {
        "id": "61Kcdp6Q8ycC"
      }
    },
    {
      "cell_type": "code",
      "source": [
        "history.history"
      ],
      "metadata": {
        "colab": {
          "base_uri": "https://localhost:8080/"
        },
        "id": "l45EpiTM8sLU",
        "outputId": "e66cadde-75ca-4217-f10f-fb7333a0a94b"
      },
      "execution_count": null,
      "outputs": [
        {
          "output_type": "execute_result",
          "data": {
            "text/plain": [
              "{'loss': [12.737286567687988,\n",
              "  12.32932186126709,\n",
              "  11.979500770568848,\n",
              "  11.649768829345703,\n",
              "  11.326961517333984],\n",
              " 'binary_accuracy': [0.32600000500679016,\n",
              "  0.3149999976158142,\n",
              "  0.3075000047683716,\n",
              "  0.3005000054836273,\n",
              "  0.29499998688697815]}"
            ]
          },
          "metadata": {},
          "execution_count": 46
        }
      ]
    },
    {
      "cell_type": "markdown",
      "source": [
        "**`validation_data` 매개변수 사용하기**"
      ],
      "metadata": {
        "id": "RehZD-0v85Il"
      }
    },
    {
      "cell_type": "code",
      "source": [
        "model = keras.Sequential([keras.layers.Dense(1)])\n",
        "model.compile(optimizer=keras.optimizers.RMSprop(learning_rate=0.1),\n",
        "              loss=keras.losses.MeanSquaredError(),\n",
        "              metrics=[keras.metrics.BinaryAccuracy()])\n",
        "\n",
        "indices_permutation = np.random.permutation(len(inputs))\n",
        "shuffled_inputs = inputs[indices_permutation]\n",
        "shuffled_targets = targets[indices_permutation]\n",
        "\n",
        "num_validation_samples = int(0.3 * len(inputs))\n",
        "val_inputs = shuffled_inputs[:num_validation_samples]\n",
        "val_targets = shuffled_targets[:num_validation_samples]\n",
        "training_inputs = shuffled_inputs[num_validation_samples:]\n",
        "training_targets = shuffled_targets[num_validation_samples:]\n",
        "model.fit(\n",
        "    training_inputs,\n",
        "    training_targets,\n",
        "    epochs=5,\n",
        "    batch_size=16,\n",
        "    validation_data=(val_inputs, val_targets)\n",
        ")"
      ],
      "metadata": {
        "colab": {
          "base_uri": "https://localhost:8080/"
        },
        "id": "uACXcht282ZS",
        "outputId": "fa27248f-44dd-4839-a829-9dddf2aeb9e6"
      },
      "execution_count": null,
      "outputs": [
        {
          "output_type": "stream",
          "name": "stdout",
          "text": [
            "Epoch 1/5\n",
            "88/88 [==============================] - 1s 7ms/step - loss: 0.4548 - binary_accuracy: 0.8671 - val_loss: 0.0497 - val_binary_accuracy: 0.9917\n",
            "Epoch 2/5\n",
            "88/88 [==============================] - 0s 4ms/step - loss: 0.0692 - binary_accuracy: 0.9600 - val_loss: 0.0500 - val_binary_accuracy: 0.9933\n",
            "Epoch 3/5\n",
            "88/88 [==============================] - 0s 4ms/step - loss: 0.0705 - binary_accuracy: 0.9679 - val_loss: 0.1523 - val_binary_accuracy: 0.7900\n",
            "Epoch 4/5\n",
            "88/88 [==============================] - 1s 6ms/step - loss: 0.0772 - binary_accuracy: 0.9486 - val_loss: 0.0273 - val_binary_accuracy: 1.0000\n",
            "Epoch 5/5\n",
            "88/88 [==============================] - 0s 4ms/step - loss: 0.0742 - binary_accuracy: 0.9600 - val_loss: 0.0362 - val_binary_accuracy: 0.9933\n"
          ]
        },
        {
          "output_type": "execute_result",
          "data": {
            "text/plain": [
              "<keras.callbacks.History at 0x7f97f086b250>"
            ]
          },
          "metadata": {},
          "execution_count": 47
        }
      ]
    },
    {
      "cell_type": "markdown",
      "source": [
        "### 추론: 훈련한 모델 사용하기"
      ],
      "metadata": {
        "id": "XD5QH3e388Zr"
      }
    },
    {
      "cell_type": "code",
      "source": [
        "predictions = model.predict(val_inputs, batch_size=128)\n",
        "print(predictions[:10])"
      ],
      "metadata": {
        "colab": {
          "base_uri": "https://localhost:8080/"
        },
        "id": "_t1OFm4C86hg",
        "outputId": "d433c8e6-313a-4d55-dba0-3167d2b1b03e"
      },
      "execution_count": null,
      "outputs": [
        {
          "output_type": "stream",
          "name": "stdout",
          "text": [
            "5/5 [==============================] - 0s 3ms/step\n",
            "[[ 0.6586506 ]\n",
            " [ 0.5634017 ]\n",
            " [ 0.02194044]\n",
            " [ 0.69642806]\n",
            " [ 0.07757977]\n",
            " [ 0.98463243]\n",
            " [-0.01207286]\n",
            " [ 0.2583052 ]\n",
            " [ 0.7966695 ]\n",
            " [ 0.08450723]]\n"
          ]
        }
      ]
    },
    {
      "cell_type": "code",
      "source": [],
      "metadata": {
        "id": "u1iMTTsB870g"
      },
      "execution_count": null,
      "outputs": []
    }
  ]
}